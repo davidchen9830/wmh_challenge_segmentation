{
 "cells": [
  {
   "cell_type": "code",
   "execution_count": null,
   "metadata": {},
   "outputs": [],
   "source": [
    "import numpy as np\n",
    "from pathlib import Path\n",
    "import pickle\n",
    "import nibabel as nib\n",
    "import matplotlib.pyplot as plt"
   ]
  },
  {
   "cell_type": "code",
   "execution_count": null,
   "metadata": {},
   "outputs": [],
   "source": [
    "TEST_DATASET = \"../models/clean/data/test.pickle\"\n",
    "\n",
    "RESULT_PATH_2D = \"../models/clean/results/pred/results_2d.pickle\"\n",
    "RESULT_PATH_2D_PREPROCESS = \"../models/clean/results/pred/results_2d_preprocess.pickle\"\n",
    "RESULT_PATH_3D = \"../models/clean/results/pred/result_3d.pickle\"\n",
    "RESULT_PATH_3D_PREPROCESS = \"../models/clean/results/pred/result_3d_preprocess.pickle\"\n",
    "DATASET_PATH = Path('.')"
   ]
  },
  {
   "cell_type": "code",
   "execution_count": null,
   "metadata": {},
   "outputs": [],
   "source": [
    "with open(TEST_DATASET, 'rb') as f:\n",
    "    test_set = pickle.load(f)\n",
    "    \n",
    "all_preds = [RESULT_PATH_2D, RESULT_PATH_2D_PREPROCESS, RESULT_PATH_3D, RESULT_PATH_3D_PREPROCESS]"
   ]
  },
  {
   "cell_type": "code",
   "execution_count": null,
   "metadata": {},
   "outputs": [],
   "source": [
    "def load_datas(all_preds):\n",
    "    preds = []\n",
    "    for path in all_preds:\n",
    "        with open(path, 'rb') as f:\n",
    "            preds.append(pickle.load(f)['transformed'])\n",
    "    return preds\n",
    "\n",
    "def reshape_datas(all_preds):\n",
    "    preds = []\n",
    "    for Y_pred in all_preds:\n",
    "        preds.append([\n",
    "            np.transpose(item, (1, 2, 0)).round() for item in Y_pred\n",
    "        ])\n",
    "    return preds"
   ]
  },
  {
   "cell_type": "code",
   "execution_count": null,
   "metadata": {},
   "outputs": [],
   "source": [
    "all_preds = reshape_datas(load_datas(all_preds))"
   ]
  },
  {
   "cell_type": "code",
   "execution_count": null,
   "metadata": {},
   "outputs": [],
   "source": [
    "# With this notebook, we will only show the results in the original\n",
    "# space\n",
    "def update_gt(gt):\n",
    "    gt = gt.round()\n",
    "    gt[gt > 1] = 0\n",
    "    gt[gt < 0] = 0\n",
    "    gt = gt.astype(np.bool)\n",
    "    return gt\n",
    "\n",
    "def get_data(test_set):\n",
    "    patients = test_set['patients']\n",
    "    flairs = [\n",
    "        nib.load(DATASET_PATH / patient / 'pre' / 'FLAIR.nii.gz').get_fdata(dtype=np.float32)\n",
    "        for patient in patients\n",
    "    ]\n",
    "    \n",
    "    t1s = [\n",
    "        nib.load(DATASET_PATH / patient / 'pre' / 'T1.nii.gz').get_fdata(dtype=np.float32)\n",
    "        for patient in patients\n",
    "    ]\n",
    "    \n",
    "    Y_true = [\n",
    "        update_gt(nib.load(DATASET_PATH / patient / 'wmh.nii.gz').get_fdata(dtype=np.float32)) \n",
    "        for patient in patients\n",
    "    ]\n",
    "    \n",
    "    return flairs, t1s, Y_true"
   ]
  },
  {
   "cell_type": "code",
   "execution_count": null,
   "metadata": {},
   "outputs": [],
   "source": [
    "flairs, t1s, Y_true = get_data(test_set)"
   ]
  },
  {
   "cell_type": "code",
   "execution_count": null,
   "metadata": {},
   "outputs": [],
   "source": [
    "datas = [flairs, t1s, Y_true, *all_preds] #, Y_pred2....\n",
    "# Comparing Y_pred and more"
   ]
  },
  {
   "cell_type": "code",
   "execution_count": null,
   "metadata": {},
   "outputs": [],
   "source": [
    "def from_patient_to_slices(datas):\n",
    "    def patients_to_slices(patients):\n",
    "        slices = []\n",
    "        for id_patient in range(len(patients)):\n",
    "            patient = patients[id_patient]\n",
    "            _, _, nb_slices = patient.shape\n",
    "            for s in range(nb_slices):\n",
    "                slices.append(patient[:, :, s])\n",
    "        return np.array(slices)\n",
    "    return [\n",
    "        patients_to_slices(patients) for patients in datas\n",
    "    ]\n",
    "\n",
    "def sort_datas(datas):\n",
    "    Y_true = datas[2]\n",
    "    nb_wmh = np.array([\n",
    "            np.count_nonzero(Y_true[i]) for i in range(len(Y_true))\n",
    "        ])\n",
    "    indices = np.argsort(-nb_wmh) # Decreasing\n",
    "    return [\n",
    "        data[indices] for data in datas\n",
    "    ]"
   ]
  },
  {
   "cell_type": "code",
   "execution_count": null,
   "metadata": {},
   "outputs": [],
   "source": [
    "new_data = sort_datas(from_patient_to_slices(datas))"
   ]
  },
  {
   "cell_type": "code",
   "execution_count": null,
   "metadata": {},
   "outputs": [],
   "source": [
    "def correct_incorrect(pred, y):\n",
    "    # Among all the true labels of the pred, which ones are correct and incorrect\n",
    "    h, w = pred.shape\n",
    "    new_image = np.zeros((h, w, 3))\n",
    "    incorrect = pred - y\n",
    "    correct = (pred == 1) & (y == 1)\n",
    "    for i in range(h):\n",
    "        for j in range(w):\n",
    "            if correct[i][j] == 1:\n",
    "                new_image[i][j] = (0, 1, 0) # R, G, B\n",
    "            if incorrect[i][j] == 1:\n",
    "                new_image[i][j] = (1, 0, 0)\n",
    "    return new_image\n",
    "\n",
    "def plot_helper(data, title, nb_rows, nb_cols, pos):\n",
    "    plt.subplot(nb_rows, nb_cols, pos)\n",
    "    plt.imshow(data)\n",
    "    plt.title(title)"
   ]
  },
  {
   "cell_type": "code",
   "execution_count": null,
   "metadata": {},
   "outputs": [],
   "source": [
    "dic = {\n",
    "    0: '2d',\n",
    "    1: '2d_preprocess',\n",
    "    2: '3d',\n",
    "    3: '3d_preprocess',\n",
    "    4: '2d'\n",
    "}"
   ]
  },
  {
   "cell_type": "code",
   "execution_count": null,
   "metadata": {},
   "outputs": [],
   "source": [
    "def display_results(datas, idx):\n",
    "    nb_pred = len(datas) - 3\n",
    "    # Data should be flair, t1, y_true, varg\n",
    "    nb_rows = 1 + nb_pred\n",
    "    nb_cols = 3\n",
    "    col_size = 8 * nb_cols\n",
    "    cpt = 0\n",
    "    plt.figure(figsize=(col_size, 6 * nb_rows))\n",
    "    \n",
    "    flair, t1, y_true = datas[0][idx], datas[1][idx], datas[2][idx]\n",
    "    plot_helper(flair, 'flair', nb_rows, nb_cols, 1)\n",
    "    plot_helper(t1, 't1', nb_rows, nb_cols, 2)\n",
    "    \n",
    "    cpt = 1\n",
    "    \n",
    "    for j in range(nb_pred):\n",
    "        y_pred = datas[3 + j][idx]\n",
    "        new_img = correct_incorrect(y_pred, y_true)\n",
    "        plot_helper(y_true, 'gt', nb_rows, nb_cols, nb_cols * cpt + 1)\n",
    "        plot_helper(y_pred, dic[j], nb_rows, nb_cols, nb_cols * cpt + 2)\n",
    "        plot_helper(new_img, 'correct/incorrect', nb_rows, nb_cols, nb_cols * cpt + 3)\n",
    "        cpt += 1\n",
    "        \n",
    "    plt.show()"
   ]
  },
  {
   "cell_type": "code",
   "execution_count": null,
   "metadata": {},
   "outputs": [],
   "source": [
    "display_results(new_data, 10)"
   ]
  },
  {
   "cell_type": "code",
   "execution_count": null,
   "metadata": {},
   "outputs": [],
   "source": [
    "indices = np.arange(len(new_data[0]))"
   ]
  },
  {
   "cell_type": "code",
   "execution_count": null,
   "metadata": {},
   "outputs": [],
   "source": [
    "np.random.shuffle(indices)"
   ]
  },
  {
   "cell_type": "code",
   "execution_count": null,
   "metadata": {},
   "outputs": [],
   "source": [
    "for i in range(30):\n",
    "    display_results(new_data, indices[i])"
   ]
  },
  {
   "cell_type": "code",
   "execution_count": null,
   "metadata": {},
   "outputs": [],
   "source": []
  },
  {
   "cell_type": "code",
   "execution_count": null,
   "metadata": {},
   "outputs": [],
   "source": []
  }
 ],
 "metadata": {
  "kernelspec": {
   "display_name": "Python 3",
   "language": "python",
   "name": "python3"
  },
  "language_info": {
   "codemirror_mode": {
    "name": "ipython",
    "version": 3
   },
   "file_extension": ".py",
   "mimetype": "text/x-python",
   "name": "python",
   "nbconvert_exporter": "python",
   "pygments_lexer": "ipython3",
   "version": "3.6.9"
  }
 },
 "nbformat": 4,
 "nbformat_minor": 2
}
