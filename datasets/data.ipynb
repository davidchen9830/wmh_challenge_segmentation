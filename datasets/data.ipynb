{
 "cells": [
  {
   "cell_type": "code",
   "execution_count": 1,
   "metadata": {},
   "outputs": [],
   "source": [
    "from __future__ import print_function\n",
    "\n",
    "import glob\n",
    "import nibabel\n",
    "from pathlib import Path\n",
    "import matplotlib.pyplot as plt\n",
    "import matplotlib\n",
    "import skimage.transform\n",
    "import numpy as np\n",
    "\n",
    "from ipywidgets import interact, interactive, fixed, interact_manual, IntSlider\n",
    "import ipywidgets as widgets\n",
    "matplotlib.rcParams['figure.figsize'] = (20, 10)"
   ]
  },
  {
   "cell_type": "code",
   "execution_count": 2,
   "metadata": {},
   "outputs": [],
   "source": [
    "path = Path('.')"
   ]
  },
  {
   "cell_type": "code",
   "execution_count": 3,
   "metadata": {},
   "outputs": [
    {
     "name": "stdout",
     "output_type": "stream",
     "text": [
      "60 patients found.\n"
     ]
    }
   ],
   "source": [
    "patients = glob.glob(str(path / '*' / '*'))\n",
    "print(f\"{len(patients)} patients found.\")"
   ]
  },
  {
   "cell_type": "code",
   "execution_count": null,
   "metadata": {},
   "outputs": [],
   "source": [
    "def show_image(patient):\n",
    "    patient = patients[patient]\n",
    "    print(patient)\n",
    "    t1 = nibabel.load(path / patient / 'pre' / 'T1.nii.gz').get_fdata()\n",
    "    flair = nibabel.load(path / patient / 'pre' / 'FLAIR.nii.gz').get_fdata()\n",
    "    gt = nibabel.load(path / patient / 'wmh.nii.gz').get_fdata()\n",
    "    assert t1.shape == flair.shape and t1.shape == gt.shape\n",
    "    def f(s):\n",
    "        plt.subplot(1, 3, 1)\n",
    "        plt.title('T1')\n",
    "        plt.imshow(t1[:, :, s])\n",
    "        plt.subplot(1, 3, 2)\n",
    "        plt.title('FLAIR')\n",
    "        plt.imshow(flair[:, :, s])\n",
    "        plt.subplot(1, 3, 3)\n",
    "        plt.title('Ground Truth')\n",
    "        plt.imshow(gt[:, :, s])\n",
    "        plt.show()\n",
    "    return interact(f, s=IntSlider(min=0, max=t1.shape[-1]-1, value=0))\n",
    "interact_manual(show_image, patient=IntSlider(min=0, max=len(patients)-1, value=0))"
   ]
  },
  {
   "cell_type": "code",
   "execution_count": null,
   "metadata": {},
   "outputs": [],
   "source": [
    "images = np.load('images.npy')\n",
    "gts = np.load('gts.npy')"
   ]
  },
  {
   "cell_type": "code",
   "execution_count": null,
   "metadata": {},
   "outputs": [],
   "source": [
    "def show_image(patient):\n",
    "    print(patients[patient])\n",
    "    def f(s):\n",
    "        plt.subplot(1, 3, 1)\n",
    "        plt.title('T1')\n",
    "        plt.imshow(images[patient, :, :, s, 0])\n",
    "        plt.subplot(1, 3, 2)\n",
    "        plt.title('FLAIR')\n",
    "        plt.imshow(images[patient, :, :, s, 1])\n",
    "        plt.subplot(1, 3, 3)\n",
    "        plt.title('Ground Truth')\n",
    "        plt.imshow(gts[patient, :, :, s])\n",
    "        plt.show()\n",
    "    return interact(f, s=IntSlider(min=0, max=images.shape[-2]-1, value=0))\n",
    "interact_manual(show_image, patient=IntSlider(min=0, max=len(patients)-1, value=0))"
   ]
  },
  {
   "cell_type": "code",
   "execution_count": 16,
   "metadata": {},
   "outputs": [],
   "source": [
    "import skimage\n",
    "import skimage.io\n",
    "import skimage.morphology"
   ]
  },
  {
   "cell_type": "code",
   "execution_count": 22,
   "metadata": {
    "scrolled": true
   },
   "outputs": [],
   "source": [
    "expected_shape = (200, 200, 48)\n",
    "disk = skimage.morphology.disk(2.5)\n",
    "\n",
    "def generate_data(save_dir):\n",
    "    for patient in patients:\n",
    "        print(patient)\n",
    "        t1 = nibabel.load(path / patient / 'pre' / 'T1.nii.gz').get_fdata()\n",
    "        fl = nibabel.load(path / patient / 'pre' / 'FLAIR.nii.gz').get_fdata()\n",
    "        gt = nibabel.load(path / patient / 'wmh.nii.gz').get_fdata() != 0\n",
    "\n",
    "        t1 = skimage.transform.resize(t1, expected_shape)\n",
    "        fl = skimage.transform.resize(fl, expected_shape)\n",
    "        gt = skimage.transform.resize(gt, expected_shape)\n",
    "\n",
    "        slices_morph = None\n",
    "        for s in range(48):\n",
    "            flair_slice = fl[:, :, s]\n",
    "            \n",
    "        \n",
    "            morph = skimage.morphology.dilation(flair_slice, disk)\n",
    "            top_hat = skimage.util.invert(morph - flair_slice)\n",
    "            top_hat = top_hat.reshape((200, 200, 1))\n",
    "            if slices_morph is None:\n",
    "                slices_morph = top_hat\n",
    "            else:\n",
    "                slices_morph = np.concatenate([slices_morph, top_hat], axis=-1)\n",
    "\n",
    "        slices_morph = np.array(slices_morph)\n",
    "        \n",
    "        slices_morph = slices_morph.reshape((200, 200, 48, 1))\n",
    "\n",
    "        t1 = t1.reshape((200, 200, 48, 1))\n",
    "        fl = fl.reshape((200, 200, 48, 1))\n",
    "        gt = gt.reshape((200, 200, 48, 1))\n",
    "        \n",
    "        img = np.concatenate([t1, fl], axis=-1)\n",
    "        pre_processed = np.concatenate([img, slices_morph], axis=-1)\n",
    "        \n",
    "        n0 = patient.split('/')[1]\n",
    "        \n",
    "        np.save(save_dir + '/data/' + str(n0) + '.npy', img)\n",
    "        np.save(save_dir + '/data/' + str(n0) + '_preprocessed' + '.npy', pre_processed)\n",
    "        np.save(save_dir + '/labels/' + str(n0) + '.npy', gt)"
   ]
  },
  {
   "cell_type": "code",
   "execution_count": 37,
   "metadata": {},
   "outputs": [],
   "source": [
    "x_train = np.load('../models/2d/X_train.npy')\n",
    "x_test = np.load('../models/2d/X_test.npy')\n",
    "y_train = np.load('../models/2d/Y_train.npy')\n",
    "y_test = np.load('../models/2d/Y_test.npy')"
   ]
  },
  {
   "cell_type": "code",
   "execution_count": null,
   "metadata": {},
   "outputs": [],
   "source": []
  },
  {
   "cell_type": "code",
   "execution_count": 40,
   "metadata": {},
   "outputs": [],
   "source": [
    "transformed_x_train = [path[0].split('/')[4] for path in x_train]\n",
    "transformed_y_train = [path.split('/')[4] for path in y_train]\n",
    "\n",
    "transformed_x_test = [path[0].split('/')[4] for path in x_test]\n",
    "transformed_y_test = [path.split('/')[4] for path in y_test]"
   ]
  },
  {
   "cell_type": "code",
   "execution_count": 41,
   "metadata": {},
   "outputs": [],
   "source": [
    "np.save('X_train.npy', transformed_x_train)\n",
    "np.save('X_test.npy', transformed_x_test)\n",
    "np.save('Y_train.npy', transformed_y_train)\n",
    "np.save('Y_test.npy', transformed_y_test)"
   ]
  },
  {
   "cell_type": "code",
   "execution_count": null,
   "metadata": {},
   "outputs": [],
   "source": []
  }
 ],
 "metadata": {
  "kernelspec": {
   "display_name": "Python 3",
   "language": "python",
   "name": "python3"
  },
  "language_info": {
   "codemirror_mode": {
    "name": "ipython",
    "version": 3
   },
   "file_extension": ".py",
   "mimetype": "text/x-python",
   "name": "python",
   "nbconvert_exporter": "python",
   "pygments_lexer": "ipython3",
   "version": "3.6.9"
  }
 },
 "nbformat": 4,
 "nbformat_minor": 4
}
