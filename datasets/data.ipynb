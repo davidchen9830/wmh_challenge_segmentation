{
 "cells": [
  {
   "cell_type": "code",
   "execution_count": 13,
   "metadata": {},
   "outputs": [],
   "source": [
    "from __future__ import print_function\n",
    "\n",
    "import glob\n",
    "import nibabel\n",
    "from pathlib import Path\n",
    "import matplotlib.pyplot as plt\n",
    "import matplotlib\n",
    "import skimage.transform\n",
    "import numpy as np\n",
    "\n",
    "from ipywidgets import interact, interactive, fixed, interact_manual, IntSlider\n",
    "import ipywidgets as widgets\n",
    "matplotlib.rcParams['figure.figsize'] = (20, 10)"
   ]
  },
  {
   "cell_type": "code",
   "execution_count": 14,
   "metadata": {},
   "outputs": [],
   "source": [
    "path = Path('.')"
   ]
  },
  {
   "cell_type": "code",
   "execution_count": 7,
   "metadata": {},
   "outputs": [
    {
     "data": {
      "text/plain": [
       "((256, 256, 176), (256, 256, 192), (256, 256, 192))"
      ]
     },
     "execution_count": 7,
     "metadata": {},
     "output_type": "execute_result"
    }
   ],
   "source": [
    "ge3t.shape, singapore.shape, ultrecht.shape"
   ]
  },
  {
   "cell_type": "code",
   "execution_count": 10,
   "metadata": {},
   "outputs": [
    {
     "name": "stdout",
     "output_type": "stream",
     "text": [
      "60 patients found.\n"
     ]
    }
   ],
   "source": [
    "patients = glob.glob(str(path / '*' / '*'))\n",
    "print(f\"{len(patients)} patients found.\")"
   ]
  },
  {
   "cell_type": "code",
   "execution_count": null,
   "metadata": {},
   "outputs": [],
   "source": [
    "def show_image(patient):\n",
    "    patient = patients[patient]\n",
    "    print(patient)\n",
    "    t1 = nibabel.load(path / patient / 'pre' / 'T1.nii.gz').get_fdata()\n",
    "    flair = nibabel.load(path / patient / 'pre' / 'FLAIR.nii.gz').get_fdata()\n",
    "    gt = nibabel.load(path / patient / 'wmh.nii.gz').get_fdata()\n",
    "    assert t1.shape == flair.shape and t1.shape == gt.shape\n",
    "    def f(s):\n",
    "        plt.subplot(1, 3, 1)\n",
    "        plt.title('T1')\n",
    "        plt.imshow(t1[:, :, s])\n",
    "        plt.subplot(1, 3, 2)\n",
    "        plt.title('FLAIR')\n",
    "        plt.imshow(flair[:, :, s])\n",
    "        plt.subplot(1, 3, 3)\n",
    "        plt.title('Ground Truth')\n",
    "        plt.imshow(gt[:, :, s])\n",
    "        plt.show()\n",
    "    return interact(f, s=IntSlider(min=0, max=t1.shape[-1]-1, value=0))\n",
    "interact_manual(show_image, patient=IntSlider(min=0, max=len(patients)-1, value=0))"
   ]
  },
  {
   "cell_type": "code",
   "execution_count": null,
   "metadata": {},
   "outputs": [],
   "source": [
    "images = np.load('images.npy')\n",
    "gts = np.load('gts.npy')"
   ]
  },
  {
   "cell_type": "code",
   "execution_count": null,
   "metadata": {},
   "outputs": [],
   "source": [
    "def show_image(patient):\n",
    "    print(patients[patient])\n",
    "    def f(s):\n",
    "        plt.subplot(1, 3, 1)\n",
    "        plt.title('T1')\n",
    "        plt.imshow(images[patient, :, :, s, 0])\n",
    "        plt.subplot(1, 3, 2)\n",
    "        plt.title('FLAIR')\n",
    "        plt.imshow(images[patient, :, :, s, 1])\n",
    "        plt.subplot(1, 3, 3)\n",
    "        plt.title('Ground Truth')\n",
    "        plt.imshow(gts[patient, :, :, s])\n",
    "        plt.show()\n",
    "    return interact(f, s=IntSlider(min=0, max=images.shape[-2]-1, value=0))\n",
    "interact_manual(show_image, patient=IntSlider(min=0, max=len(patients)-1, value=0))"
   ]
  },
  {
   "cell_type": "code",
   "execution_count": 4,
   "metadata": {},
   "outputs": [],
   "source": [
    "import skimage\n",
    "import skimage.io\n",
    "import skimage.morphology"
   ]
  },
  {
   "cell_type": "code",
   "execution_count": 46,
   "metadata": {
    "scrolled": true
   },
   "outputs": [],
   "source": [
    "expected_shape = (200, 200, 48)\n",
    "disk = skimage.morphology.disk(2.5)\n",
    "\n",
    "def generate_samples(save_dir, data, n0, sample_size=16, gt=False, preprocess=False):\n",
    "    _, _, vol, _ = data.shape\n",
    "    if vol % sample_size != 0:\n",
    "        print('Error, data and sample size not divisble')\n",
    "        return\n",
    "    saveN0 = n0\n",
    "    n0 = str(n0)\n",
    "    nb_samples = vol // sample_size\n",
    "    imgs = []\n",
    "    for sample_idx in range(nb_samples):\n",
    "        curr_sample = data[:, :, sample_idx * sample_size: (sample_idx + 1) * sample_size, :]\n",
    "        if gt:\n",
    "            # This lead to /labels/50_0.npy\n",
    "            np.save(save_dir + '/labels/' + n0 + '_' + str(sample_idx) + '.npy', curr_sample)\n",
    "        else:\n",
    "            if not preprocess:\n",
    "                np.save(save_dir + '/data/' + n0 + '_' + str(sample_idx) + '.npy', curr_sample)\n",
    "            else:\n",
    "                np.save(save_dir + '/data/' + n0 + '_' + str(sample_idx) + '_preprocessed.npy', curr_sample)\n",
    "        imgs.append(sample_idx)\n",
    "    return np.array(imgs)\n",
    "\n",
    "def generate_data(save_dir):\n",
    "    dic = {}\n",
    "    for patient in patients:\n",
    "        print(patient)\n",
    "        t1 = nibabel.load(path / patient / 'pre' / 'T1.nii.gz').get_fdata()\n",
    "        fl = nibabel.load(path / patient / 'pre' / 'FLAIR.nii.gz').get_fdata()\n",
    "        gt = nibabel.load(path / patient / 'wmh.nii.gz').get_fdata() != 0\n",
    "        \n",
    "        _, _, t1_c = t1.shape\n",
    "        _, _, fl_c = fl.shape\n",
    "        _, _, gt_c = gt.shape\n",
    "        \n",
    "        if t1_c == 83:\n",
    "            t1 = t1[:, :, 2:82]\n",
    "            t1_c = 80\n",
    "        if fl_c == 83:\n",
    "            fl = fl[:, :, 2:82]\n",
    "            fl_c = 80\n",
    "        if gt_c == 83:\n",
    "            gt = gt[:, :, 2:82]\n",
    "            gt_c = 80\n",
    "\n",
    "        t1 = skimage.transform.resize(t1, (200, 200, t1_c))\n",
    "        fl = skimage.transform.resize(fl, (200, 200, fl_c))\n",
    "        gt = skimage.transform.resize(gt, (200, 200, gt_c))\n",
    "        \n",
    "\n",
    "        slices_morph = None\n",
    "        for s in range(fl_c):\n",
    "            flair_slice = fl[:, :, s]\n",
    "            \n",
    "        \n",
    "            morph = skimage.morphology.dilation(flair_slice, disk)\n",
    "            top_hat = skimage.util.invert(morph - flair_slice)\n",
    "            top_hat = top_hat.reshape((200, 200, 1))\n",
    "            if slices_morph is None:\n",
    "                slices_morph = top_hat\n",
    "            else:\n",
    "                slices_morph = np.concatenate([slices_morph, top_hat], axis=-1)\n",
    "\n",
    "        slices_morph = np.array(slices_morph)\n",
    "        \n",
    "        slices_morph = slices_morph.reshape((200, 200, fl_c, 1))\n",
    "\n",
    "        t1 = t1.reshape((200, 200, t1_c, 1))\n",
    "        fl = fl.reshape((200, 200, fl_c, 1))\n",
    "        gt = gt.reshape((200, 200, gt_c, 1))\n",
    "        \n",
    "        img = np.concatenate([t1, fl], axis=-1)\n",
    "        pre_processed = np.concatenate([img, slices_morph], axis=-1)\n",
    "        \n",
    "        n0 = patient.split('/')[1]\n",
    "        \n",
    "        dic[int(n0)] = (generate_samples(save_dir, img, n0, sample_size=16, gt=False, preprocess=False))\n",
    "        generate_samples(save_dir, gt, n0, sample_size=16, gt=True, preprocess=False)\n",
    "        generate_samples(save_dir, pre_processed, n0, sample_size=16, gt=False, preprocess=True)\n",
    "    return dic"
   ]
  },
  {
   "cell_type": "code",
   "execution_count": 47,
   "metadata": {},
   "outputs": [
    {
     "name": "stdout",
     "output_type": "stream",
     "text": [
      "GE3T/126\n",
      "GE3T/144\n",
      "GE3T/100\n",
      "GE3T/106\n",
      "GE3T/107\n",
      "GE3T/108\n",
      "GE3T/102\n",
      "GE3T/137\n",
      "GE3T/101\n",
      "GE3T/114\n",
      "GE3T/110\n",
      "GE3T/116\n",
      "GE3T/112\n",
      "GE3T/132\n",
      "GE3T/105\n",
      "GE3T/109\n",
      "GE3T/113\n",
      "GE3T/104\n",
      "GE3T/115\n",
      "GE3T/103\n",
      "Utrecht/27\n",
      "Utrecht/37\n",
      "Utrecht/21\n",
      "Utrecht/49\n",
      "Utrecht/6\n",
      "Utrecht/4\n",
      "Utrecht/17\n",
      "Utrecht/35\n",
      "Utrecht/29\n",
      "Utrecht/8\n",
      "Utrecht/23\n",
      "Utrecht/33\n",
      "Utrecht/2\n",
      "Utrecht/31\n",
      "Utrecht/39\n",
      "Utrecht/25\n",
      "Utrecht/19\n",
      "Utrecht/11\n",
      "Utrecht/0\n",
      "Utrecht/41\n",
      "Singapore/67\n",
      "Singapore/55\n",
      "Singapore/59\n",
      "Singapore/53\n",
      "Singapore/62\n",
      "Singapore/63\n",
      "Singapore/51\n",
      "Singapore/50\n",
      "Singapore/54\n",
      "Singapore/69\n",
      "Singapore/60\n",
      "Singapore/56\n",
      "Singapore/65\n",
      "Singapore/66\n",
      "Singapore/64\n",
      "Singapore/58\n",
      "Singapore/68\n",
      "Singapore/57\n",
      "Singapore/61\n",
      "Singapore/52\n"
     ]
    }
   ],
   "source": [
    "ids = generate_data('.')"
   ]
  },
  {
   "cell_type": "code",
   "execution_count": 49,
   "metadata": {},
   "outputs": [],
   "source": [
    "x_train = np.load('../models/2d/X_train.npy')\n",
    "x_test = np.load('../models/2d/X_test.npy')\n",
    "y_train = np.load('../models/2d/Y_train.npy')\n",
    "y_test = np.load('../models/2d/Y_test.npy')\n",
    "transformed_x_train = [path[0].split('/')[4] for path in x_train]\n",
    "transformed_y_train = [path.split('/')[4] for path in y_train]\n",
    "transformed_x_test = [path[0].split('/')[4] for path in x_test]\n",
    "transformed_y_test = [path.split('/')[4] for path in y_test]\n",
    "# np.save('X_train.npy', transformed_x_train)\n",
    "# np.save('X_test.npy', transformed_x_test)\n",
    "# np.save('Y_train.npy', transformed_y_train)\n",
    "# np.save('Y_test.npy', transformed_y_test)"
   ]
  },
  {
   "cell_type": "code",
   "execution_count": 69,
   "metadata": {},
   "outputs": [],
   "source": [
    "all_slices = []\n",
    "for k, v in ids.items():\n",
    "    for idx in v:\n",
    "        all_slices.append([int(k), idx])\n",
    "all_slices = np.array(all_slices)"
   ]
  },
  {
   "cell_type": "code",
   "execution_count": 70,
   "metadata": {},
   "outputs": [],
   "source": [
    "np.random.seed(42)"
   ]
  },
  {
   "cell_type": "code",
   "execution_count": 71,
   "metadata": {},
   "outputs": [],
   "source": [
    "np.random.shuffle(all_slices)"
   ]
  },
  {
   "cell_type": "code",
   "execution_count": 72,
   "metadata": {},
   "outputs": [],
   "source": [
    "from sklearn.model_selection import train_test_split"
   ]
  },
  {
   "cell_type": "code",
   "execution_count": 73,
   "metadata": {},
   "outputs": [],
   "source": [
    "X_train_slices, X_test_slices = train_test_split(all_slices, test_size=0.20, random_state=42)"
   ]
  },
  {
   "cell_type": "code",
   "execution_count": 75,
   "metadata": {},
   "outputs": [],
   "source": [
    "np.save('X_train_slices.npy', X_train_slices)\n",
    "np.save('X_test_slices.npy', X_test_slices)"
   ]
  },
  {
   "cell_type": "code",
   "execution_count": null,
   "metadata": {},
   "outputs": [],
   "source": []
  },
  {
   "cell_type": "code",
   "execution_count": null,
   "metadata": {},
   "outputs": [],
   "source": []
  }
 ],
 "metadata": {
  "kernelspec": {
   "display_name": "Python 3",
   "language": "python",
   "name": "python3"
  },
  "language_info": {
   "codemirror_mode": {
    "name": "ipython",
    "version": 3
   },
   "file_extension": ".py",
   "mimetype": "text/x-python",
   "name": "python",
   "nbconvert_exporter": "python",
   "pygments_lexer": "ipython3",
   "version": "3.6.9"
  }
 },
 "nbformat": 4,
 "nbformat_minor": 4
}
