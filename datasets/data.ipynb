{
 "cells": [
  {
   "cell_type": "code",
   "execution_count": null,
   "metadata": {},
   "outputs": [],
   "source": [
    "from __future__ import print_function\n",
    "\n",
    "import glob\n",
    "import nibabel\n",
    "from pathlib import Path\n",
    "import matplotlib.pyplot as plt\n",
    "import matplotlib\n",
    "import skimage.transform\n",
    "import numpy as np\n",
    "\n",
    "from ipywidgets import interact, interactive, fixed, interact_manual, IntSlider\n",
    "import ipywidgets as widgets\n",
    "import pickle\n",
    "matplotlib.rcParams['figure.figsize'] = (20, 10)"
   ]
  },
  {
   "cell_type": "code",
   "execution_count": null,
   "metadata": {},
   "outputs": [],
   "source": [
    "raw_path = Path('.')\n",
    "computed_path = Path('../models/clean')"
   ]
  },
  {
   "cell_type": "code",
   "execution_count": null,
   "metadata": {},
   "outputs": [],
   "source": [
    "patients = sorted(glob.glob(str(raw_path / '*' / '*')))\n",
    "print(f\"{len(patients)} patients found.\")"
   ]
  },
  {
   "cell_type": "code",
   "execution_count": null,
   "metadata": {},
   "outputs": [],
   "source": [
    "with (computed_path / 'train.pickle').open('rb') as file:\n",
    "    train = pickle.load(file)\n",
    "with (computed_path / 'test.pickle').open('rb') as file:\n",
    "    test = pickle.load(file)\n",
    "X = train['X'] + test['X']\n",
    "y = train['y'] + test['y']\n",
    "if (computed_path / 'results.pickle').exists():\n",
    "    with (computed_path / 'results.pickle').open('rb') as file:\n",
    "        results = pickle.load(file)\n",
    "    predicted = [None] * len(train['X']) + results['raw']\n",
    "else:\n",
    "    results = None\n",
    "    predicted = None\n",
    "generated_patients = train['patients'] + test['patients']"
   ]
  },
  {
   "cell_type": "code",
   "execution_count": null,
   "metadata": {},
   "outputs": [],
   "source": [
    "def show_image(patient):\n",
    "    patient = patients[patient]\n",
    "    print(patient)\n",
    "    t1 = nibabel.load(raw_path / patient / 'pre' / 'T1.nii.gz').get_fdata()\n",
    "    flair = nibabel.load(raw_path / patient / 'pre' / 'FLAIR.nii.gz').get_fdata()\n",
    "    gt = nibabel.load(raw_path / patient / 'wmh.nii.gz').get_fdata()\n",
    "    \n",
    "    patient_index = None\n",
    "    if results:\n",
    "        if patient in test['patients']:\n",
    "            patient_index = test['patients'].index(patient)\n",
    "    \n",
    "    assert t1.shape == flair.shape and t1.shape == gt.shape\n",
    "    def f(s):\n",
    "        plt.subplot(1, 4, 1)\n",
    "        plt.title('T1')\n",
    "        plt.imshow(t1[:, :, s])\n",
    "        plt.subplot(1, 4, 2)\n",
    "        plt.title('FLAIR')\n",
    "        plt.imshow(flair[:, :, s])\n",
    "        plt.subplot(1, 4, 3)\n",
    "        plt.title('Ground Truth')\n",
    "        plt.imshow(gt[:, :, s], vmin=0, vmax=1)\n",
    "        plt.colorbar()\n",
    "        if patient_index is not None:\n",
    "            plt.subplot(1, 4, 4)\n",
    "            plt.title('Predicted')\n",
    "            plt.imshow(results['transformed'][patient_index][s], vmin=0, vmax=1)\n",
    "            plt.colorbar()\n",
    "        plt.show()\n",
    "    return interact(f, s=IntSlider(min=0, max=t1.shape[-1]-1, value=0))\n",
    "interact_manual(show_image, patient=IntSlider(min=0, max=len(patients)-1, value=0))"
   ]
  },
  {
   "cell_type": "code",
   "execution_count": null,
   "metadata": {},
   "outputs": [],
   "source": [
    "def show_image(patient):\n",
    "    print(generated_patients[patient])\n",
    "    def f(s):\n",
    "        plt.subplot(1, 5, 1)\n",
    "        plt.title('T1')\n",
    "        plt.imshow(X[patient][s, :, :, 0])\n",
    "        plt.subplot(1, 5, 2)\n",
    "        plt.title('FLAIR')\n",
    "        plt.imshow(X[patient][s, :, :, 1])\n",
    "        plt.subplot(1, 5, 3)\n",
    "        plt.title('Preprocess')\n",
    "        plt.imshow(X[patient][s, :, :, 2])\n",
    "        plt.subplot(1, 5, 4)\n",
    "        plt.title('Ground Truth')\n",
    "        plt.imshow(y[patient][s, :, :], vmin=0, vmax=1)\n",
    "        plt.colorbar()\n",
    "        plt.subplot(1, 5, 5)\n",
    "        plt.title('Predicted')\n",
    "        if predicted and predicted[patient] is not None:\n",
    "            plt.imshow(predicted[patient][s, :, :], vmin=0, vmax=1)\n",
    "            plt.colorbar()\n",
    "        plt.show()\n",
    "    return interact(f, s=IntSlider(min=0, max=X[patient].shape[0]-1, value=0))\n",
    "interact_manual(show_image, patient=IntSlider(min=0, max=len(X)-1, value=0))"
   ]
  },
  {
   "cell_type": "code",
   "execution_count": null,
   "metadata": {},
   "outputs": [],
   "source": [
    "predicted"
   ]
  },
  {
   "cell_type": "code",
   "execution_count": null,
   "metadata": {},
   "outputs": [],
   "source": []
  }
 ],
 "metadata": {
  "kernelspec": {
   "display_name": "Python 3",
   "language": "python",
   "name": "python3"
  },
  "language_info": {
   "codemirror_mode": {
    "name": "ipython",
    "version": 3
   },
   "file_extension": ".py",
   "mimetype": "text/x-python",
   "name": "python",
   "nbconvert_exporter": "python",
   "pygments_lexer": "ipython3",
   "version": "3.8.7"
  }
 },
 "nbformat": 4,
 "nbformat_minor": 4
}
